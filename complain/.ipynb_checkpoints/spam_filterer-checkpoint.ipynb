{
 "cells": [
  {
   "cell_type": "code",
   "execution_count": 1,
   "metadata": {
    "collapsed": true
   },
   "outputs": [],
   "source": [
    "from rake_nltk import Rake\n",
    "import sklearn\n",
    "from sklearn.metrics import jaccard_similarity_score\n",
    "import nltk \n",
    "import numpy as np\n",
    "import pandas as pd\n",
    "import textract\n",
    "import string\n",
    "import collections\n",
    "import pickle\n",
    "from nltk.corpus import stopwords\n",
    "from nltk.stem import WordNetLemmatizer\n",
    "from nltk.corpus import stopwords\n",
    "stop_words=set(stopwords.words('english'))\n",
    "keyword_extractor=Rake(stopwords=stop_words,punctuations=string.punctuation)\n",
    "lemmatizer = WordNetLemmatizer()\n",
    "feature_vector=sklearn.feature_extraction.text.CountVectorizer()"
   ]
  },
  {
   "cell_type": "code",
   "execution_count": 3,
   "metadata": {
    "collapsed": true
   },
   "outputs": [],
   "source": [
    "def keyword_extractor_text(mail):\n",
    "    '''\n",
    "    This Function is used for Extracting Keywords from two emails for similarity finding\n",
    "    \n",
    "    Parameters:\n",
    "    The tokenised form of the text\n",
    "    '''\n",
    "    keyword_extractor.extract_keywords_from_text(mail)\n",
    "    keywords_mail=keyword_extractor.ranked_phrases\n",
    "    keywords_mail_tokens=''.join(c+\" \" for c in keywords_mail)\n",
    "    keywords_mail_tokens=nltk.word_tokenize(keywords_mail_tokens)\n",
    "    \n",
    "    text_tokens_mail=nltk.word_tokenize(mail)\n",
    "    text_tokens_mail = [s for s in text_tokens_mail if s]\n",
    "    final_text_mail=[w for w in text_tokens_mail if w in keywords_mail_tokens]\n",
    "    final_text_mail =[c for c in final_text_mail if c not in string.punctuation]\n",
    "    final_text_mail=[w for w in final_text_mail if w.isalpha()]\n",
    "    final_text_mail=[lemmatizer.lemmatize(s) for s in final_text_mail]\n",
    "    return final_text_mail"
   ]
  },
  {
   "cell_type": "code",
   "execution_count": 6,
   "metadata": {
    "collapsed": true
   },
   "outputs": [],
   "source": [
    "def spam_predict(data):\n",
    "    with open(\"/home/sirzechlucifer/machine learning/tcs inframind/IntelligentAutoresponder/autoresponder/complain/featurespace.txt\", \"rb\") as fp:   # Unpickling\n",
    "        b = pickle.load(fp)\n",
    "    text=keyword_extractor_text(data)\n",
    "    flag=0\n",
    "    for i in text:\n",
    "        if i in b:\n",
    "            flag=0\n",
    "        else:\n",
    "            flag=1\n",
    "            break\n",
    "    if flag==0:\n",
    "        return 0\n",
    "    else:\n",
    "        return 1"
   ]
  }
 ],
 "metadata": {
  "kernelspec": {
   "display_name": "Python 3",
   "language": "python",
   "name": "python3"
  },
  "language_info": {
   "codemirror_mode": {
    "name": "ipython",
    "version": 3
   },
   "file_extension": ".py",
   "mimetype": "text/x-python",
   "name": "python",
   "nbconvert_exporter": "python",
   "pygments_lexer": "ipython3",
   "version": "3.6.3"
  }
 },
 "nbformat": 4,
 "nbformat_minor": 2
}
